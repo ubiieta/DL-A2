{
 "cells": [
  {
   "cell_type": "markdown",
   "metadata": {},
   "source": [
    "# DATA EXPLORATION\n"
   ]
  },
  {
   "cell_type": "code",
   "execution_count": 1,
   "metadata": {},
   "outputs": [
    {
     "data": {
      "text/plain": [
       "<torch._C.Generator at 0x77978d2b3570>"
      ]
     },
     "execution_count": 1,
     "metadata": {},
     "output_type": "execute_result"
    }
   ],
   "source": [
    "# IMPORTS AND SEED SETTING\n",
    "\n",
    "import numpy as np\n",
    "import pandas as pd\n",
    "import matplotlib.pyplot as plt\n",
    "import torch\n",
    "import torch.nn as nn\n",
    "import torch.optim as optim\n",
    "import torchvision\n",
    "import torchvision.transforms as transforms\n",
    "from torch.utils.data import Dataset, DataLoader, random_split\n",
    "from sklearn.model_selection import train_test_split\n",
    "import matplotlib.pyplot as plt\n",
    "\n",
    "\n",
    "\n",
    "torch.manual_seed(33)  \n"
   ]
  },
  {
   "cell_type": "code",
   "execution_count": 2,
   "metadata": {},
   "outputs": [
    {
     "data": {
      "application/vnd.microsoft.datawrangler.viewer.v0+json": {
       "columns": [
        {
         "name": "index",
         "rawType": "int64",
         "type": "integer"
        },
        {
         "name": "userId",
         "rawType": "int64",
         "type": "integer"
        },
        {
         "name": "movieId",
         "rawType": "int64",
         "type": "integer"
        },
        {
         "name": "rating",
         "rawType": "int64",
         "type": "integer"
        },
        {
         "name": "timestamp",
         "rawType": "int64",
         "type": "integer"
        }
       ],
       "conversionMethod": "pd.DataFrame",
       "ref": "27ab3191-48d8-44c1-96c2-c90f4e31250e",
       "rows": [
        [
         "0",
         "196",
         "242",
         "3",
         "881250949"
        ],
        [
         "1",
         "186",
         "302",
         "3",
         "891717742"
        ],
        [
         "2",
         "22",
         "377",
         "1",
         "878887116"
        ],
        [
         "3",
         "244",
         "51",
         "2",
         "880606923"
        ],
        [
         "4",
         "166",
         "346",
         "1",
         "886397596"
        ]
       ],
       "shape": {
        "columns": 4,
        "rows": 5
       }
      },
      "text/html": [
       "<div>\n",
       "<style scoped>\n",
       "    .dataframe tbody tr th:only-of-type {\n",
       "        vertical-align: middle;\n",
       "    }\n",
       "\n",
       "    .dataframe tbody tr th {\n",
       "        vertical-align: top;\n",
       "    }\n",
       "\n",
       "    .dataframe thead th {\n",
       "        text-align: right;\n",
       "    }\n",
       "</style>\n",
       "<table border=\"1\" class=\"dataframe\">\n",
       "  <thead>\n",
       "    <tr style=\"text-align: right;\">\n",
       "      <th></th>\n",
       "      <th>userId</th>\n",
       "      <th>movieId</th>\n",
       "      <th>rating</th>\n",
       "      <th>timestamp</th>\n",
       "    </tr>\n",
       "  </thead>\n",
       "  <tbody>\n",
       "    <tr>\n",
       "      <th>0</th>\n",
       "      <td>196</td>\n",
       "      <td>242</td>\n",
       "      <td>3</td>\n",
       "      <td>881250949</td>\n",
       "    </tr>\n",
       "    <tr>\n",
       "      <th>1</th>\n",
       "      <td>186</td>\n",
       "      <td>302</td>\n",
       "      <td>3</td>\n",
       "      <td>891717742</td>\n",
       "    </tr>\n",
       "    <tr>\n",
       "      <th>2</th>\n",
       "      <td>22</td>\n",
       "      <td>377</td>\n",
       "      <td>1</td>\n",
       "      <td>878887116</td>\n",
       "    </tr>\n",
       "    <tr>\n",
       "      <th>3</th>\n",
       "      <td>244</td>\n",
       "      <td>51</td>\n",
       "      <td>2</td>\n",
       "      <td>880606923</td>\n",
       "    </tr>\n",
       "    <tr>\n",
       "      <th>4</th>\n",
       "      <td>166</td>\n",
       "      <td>346</td>\n",
       "      <td>1</td>\n",
       "      <td>886397596</td>\n",
       "    </tr>\n",
       "  </tbody>\n",
       "</table>\n",
       "</div>"
      ],
      "text/plain": [
       "   userId  movieId  rating  timestamp\n",
       "0     196      242       3  881250949\n",
       "1     186      302       3  891717742\n",
       "2      22      377       1  878887116\n",
       "3     244       51       2  880606923\n",
       "4     166      346       1  886397596"
      ]
     },
     "execution_count": 2,
     "metadata": {},
     "output_type": "execute_result"
    }
   ],
   "source": [
    "\n",
    "ratingsRaw = pd.read_csv(\"ml-100k/u.data\", sep = \"\\t\", header = None, names=[\"userId\", \"movieId\", \"rating\", \"timestamp\"]) \n",
    "\n",
    "ratingsRaw.head()"
   ]
  },
  {
   "cell_type": "markdown",
   "metadata": {},
   "source": [
    "Get the indices of the genres \n"
   ]
  },
  {
   "cell_type": "code",
   "execution_count": 3,
   "metadata": {},
   "outputs": [
    {
     "data": {
      "application/vnd.microsoft.datawrangler.viewer.v0+json": {
       "columns": [
        {
         "name": "index",
         "rawType": "int64",
         "type": "integer"
        },
        {
         "name": "movieId",
         "rawType": "int64",
         "type": "integer"
        },
        {
         "name": "movie title",
         "rawType": "object",
         "type": "string"
        },
        {
         "name": "genresOnehot",
         "rawType": "object",
         "type": "unknown"
        }
       ],
       "conversionMethod": "pd.DataFrame",
       "ref": "ae6526e4-bff1-4940-a9d2-edc23354226b",
       "rows": [
        [
         "0",
         "1",
         "Toy Story (1995)",
         "[0, 0, 0, 1, 1, 1, 0, 0, 0, 0, 0, 0, 0, 0, 0, 0, 0, 0, 0]"
        ],
        [
         "1",
         "2",
         "GoldenEye (1995)",
         "[0, 1, 1, 0, 0, 0, 0, 0, 0, 0, 0, 0, 0, 0, 0, 0, 1, 0, 0]"
        ],
        [
         "2",
         "3",
         "Four Rooms (1995)",
         "[0, 0, 0, 0, 0, 0, 0, 0, 0, 0, 0, 0, 0, 0, 0, 0, 1, 0, 0]"
        ],
        [
         "3",
         "4",
         "Get Shorty (1995)",
         "[0, 1, 0, 0, 0, 1, 0, 0, 1, 0, 0, 0, 0, 0, 0, 0, 0, 0, 0]"
        ],
        [
         "4",
         "5",
         "Copycat (1995)",
         "[0, 0, 0, 0, 0, 0, 1, 0, 1, 0, 0, 0, 0, 0, 0, 0, 1, 0, 0]"
        ]
       ],
       "shape": {
        "columns": 3,
        "rows": 5
       }
      },
      "text/html": [
       "<div>\n",
       "<style scoped>\n",
       "    .dataframe tbody tr th:only-of-type {\n",
       "        vertical-align: middle;\n",
       "    }\n",
       "\n",
       "    .dataframe tbody tr th {\n",
       "        vertical-align: top;\n",
       "    }\n",
       "\n",
       "    .dataframe thead th {\n",
       "        text-align: right;\n",
       "    }\n",
       "</style>\n",
       "<table border=\"1\" class=\"dataframe\">\n",
       "  <thead>\n",
       "    <tr style=\"text-align: right;\">\n",
       "      <th></th>\n",
       "      <th>movieId</th>\n",
       "      <th>movie title</th>\n",
       "      <th>genresOnehot</th>\n",
       "    </tr>\n",
       "  </thead>\n",
       "  <tbody>\n",
       "    <tr>\n",
       "      <th>0</th>\n",
       "      <td>1</td>\n",
       "      <td>Toy Story (1995)</td>\n",
       "      <td>[0, 0, 0, 1, 1, 1, 0, 0, 0, 0, 0, 0, 0, 0, 0, ...</td>\n",
       "    </tr>\n",
       "    <tr>\n",
       "      <th>1</th>\n",
       "      <td>2</td>\n",
       "      <td>GoldenEye (1995)</td>\n",
       "      <td>[0, 1, 1, 0, 0, 0, 0, 0, 0, 0, 0, 0, 0, 0, 0, ...</td>\n",
       "    </tr>\n",
       "    <tr>\n",
       "      <th>2</th>\n",
       "      <td>3</td>\n",
       "      <td>Four Rooms (1995)</td>\n",
       "      <td>[0, 0, 0, 0, 0, 0, 0, 0, 0, 0, 0, 0, 0, 0, 0, ...</td>\n",
       "    </tr>\n",
       "    <tr>\n",
       "      <th>3</th>\n",
       "      <td>4</td>\n",
       "      <td>Get Shorty (1995)</td>\n",
       "      <td>[0, 1, 0, 0, 0, 1, 0, 0, 1, 0, 0, 0, 0, 0, 0, ...</td>\n",
       "    </tr>\n",
       "    <tr>\n",
       "      <th>4</th>\n",
       "      <td>5</td>\n",
       "      <td>Copycat (1995)</td>\n",
       "      <td>[0, 0, 0, 0, 0, 0, 1, 0, 1, 0, 0, 0, 0, 0, 0, ...</td>\n",
       "    </tr>\n",
       "  </tbody>\n",
       "</table>\n",
       "</div>"
      ],
      "text/plain": [
       "   movieId        movie title  \\\n",
       "0        1   Toy Story (1995)   \n",
       "1        2   GoldenEye (1995)   \n",
       "2        3  Four Rooms (1995)   \n",
       "3        4  Get Shorty (1995)   \n",
       "4        5     Copycat (1995)   \n",
       "\n",
       "                                        genresOnehot  \n",
       "0  [0, 0, 0, 1, 1, 1, 0, 0, 0, 0, 0, 0, 0, 0, 0, ...  \n",
       "1  [0, 1, 1, 0, 0, 0, 0, 0, 0, 0, 0, 0, 0, 0, 0, ...  \n",
       "2  [0, 0, 0, 0, 0, 0, 0, 0, 0, 0, 0, 0, 0, 0, 0, ...  \n",
       "3  [0, 1, 0, 0, 0, 1, 0, 0, 1, 0, 0, 0, 0, 0, 0, ...  \n",
       "4  [0, 0, 0, 0, 0, 0, 1, 0, 1, 0, 0, 0, 0, 0, 0, ...  "
      ]
     },
     "execution_count": 3,
     "metadata": {},
     "output_type": "execute_result"
    }
   ],
   "source": [
    "import pandas as pd\n",
    "\n",
    "# Define column names based on the MovieLens 100k dataset  \n",
    "column_names = [\n",
    "    \"movieId\", \"movie title\", \"release date\", \"video release date\", \"IMDb URL\",\n",
    "    \"unknown\", \"Action\", \"Adventure\", \"Animation\", \"Children's\", \"Comedy\", \n",
    "    \"Crime\", \"Documentary\", \"Drama\", \"Fantasy\", \"Film-Noir\", \"Horror\", \n",
    "    \"Musical\", \"Mystery\", \"Romance\", \"Sci-Fi\", \"Thriller\", \"War\", \"Western\"\n",
    "]  \n",
    "\n",
    "# Read the dataset with the correct separator (|)  \n",
    "moviesRaw = pd.read_csv(\"ml-100k/u.item\", sep=\"|\", encoding=\"latin-1\", header=None, names=column_names)  \n",
    "\n",
    "# Extract the last 19 columns (genre columns)\n",
    "genre_columns = column_names[-19:]\n",
    "\n",
    "\n",
    "# Create the list of one-hot encoded values\n",
    "moviesRaw[\"genresOnehot\"] = moviesRaw[genre_columns].values.tolist()\n",
    "\n",
    "\n",
    "# Display the first few rows  \n",
    "moviesRaw[[\"movieId\", \"movie title\", \"genresOnehot\"]].head()\n"
   ]
  },
  {
   "cell_type": "code",
   "execution_count": 4,
   "metadata": {},
   "outputs": [
    {
     "data": {
      "application/vnd.microsoft.datawrangler.viewer.v0+json": {
       "columns": [
        {
         "name": "index",
         "rawType": "int64",
         "type": "integer"
        },
        {
         "name": "userId",
         "rawType": "int64",
         "type": "integer"
        },
        {
         "name": "movieId",
         "rawType": "int64",
         "type": "integer"
        },
        {
         "name": "rating",
         "rawType": "int64",
         "type": "integer"
        },
        {
         "name": "genresOnehot",
         "rawType": "object",
         "type": "unknown"
        }
       ],
       "conversionMethod": "pd.DataFrame",
       "ref": "6c5a20bd-bf13-4548-b1d2-d7a3068bd059",
       "rows": [
        [
         "0",
         "196",
         "242",
         "3",
         "[0, 0, 0, 0, 0, 1, 0, 0, 0, 0, 0, 0, 0, 0, 0, 0, 0, 0, 0]"
        ],
        [
         "1",
         "186",
         "302",
         "3",
         "[0, 0, 0, 0, 0, 0, 1, 0, 0, 0, 1, 0, 0, 1, 0, 0, 1, 0, 0]"
        ],
        [
         "2",
         "22",
         "377",
         "1",
         "[0, 0, 0, 0, 1, 1, 0, 0, 0, 0, 0, 0, 0, 0, 0, 0, 0, 0, 0]"
        ],
        [
         "3",
         "244",
         "51",
         "2",
         "[0, 0, 0, 0, 0, 0, 0, 0, 1, 0, 0, 0, 0, 0, 1, 0, 0, 1, 1]"
        ],
        [
         "4",
         "166",
         "346",
         "1",
         "[0, 0, 0, 0, 0, 0, 1, 0, 1, 0, 0, 0, 0, 0, 0, 0, 0, 0, 0]"
        ]
       ],
       "shape": {
        "columns": 4,
        "rows": 5
       }
      },
      "text/html": [
       "<div>\n",
       "<style scoped>\n",
       "    .dataframe tbody tr th:only-of-type {\n",
       "        vertical-align: middle;\n",
       "    }\n",
       "\n",
       "    .dataframe tbody tr th {\n",
       "        vertical-align: top;\n",
       "    }\n",
       "\n",
       "    .dataframe thead th {\n",
       "        text-align: right;\n",
       "    }\n",
       "</style>\n",
       "<table border=\"1\" class=\"dataframe\">\n",
       "  <thead>\n",
       "    <tr style=\"text-align: right;\">\n",
       "      <th></th>\n",
       "      <th>userId</th>\n",
       "      <th>movieId</th>\n",
       "      <th>rating</th>\n",
       "      <th>genresOnehot</th>\n",
       "    </tr>\n",
       "  </thead>\n",
       "  <tbody>\n",
       "    <tr>\n",
       "      <th>0</th>\n",
       "      <td>196</td>\n",
       "      <td>242</td>\n",
       "      <td>3</td>\n",
       "      <td>[0, 0, 0, 0, 0, 1, 0, 0, 0, 0, 0, 0, 0, 0, 0, ...</td>\n",
       "    </tr>\n",
       "    <tr>\n",
       "      <th>1</th>\n",
       "      <td>186</td>\n",
       "      <td>302</td>\n",
       "      <td>3</td>\n",
       "      <td>[0, 0, 0, 0, 0, 0, 1, 0, 0, 0, 1, 0, 0, 1, 0, ...</td>\n",
       "    </tr>\n",
       "    <tr>\n",
       "      <th>2</th>\n",
       "      <td>22</td>\n",
       "      <td>377</td>\n",
       "      <td>1</td>\n",
       "      <td>[0, 0, 0, 0, 1, 1, 0, 0, 0, 0, 0, 0, 0, 0, 0, ...</td>\n",
       "    </tr>\n",
       "    <tr>\n",
       "      <th>3</th>\n",
       "      <td>244</td>\n",
       "      <td>51</td>\n",
       "      <td>2</td>\n",
       "      <td>[0, 0, 0, 0, 0, 0, 0, 0, 1, 0, 0, 0, 0, 0, 1, ...</td>\n",
       "    </tr>\n",
       "    <tr>\n",
       "      <th>4</th>\n",
       "      <td>166</td>\n",
       "      <td>346</td>\n",
       "      <td>1</td>\n",
       "      <td>[0, 0, 0, 0, 0, 0, 1, 0, 1, 0, 0, 0, 0, 0, 0, ...</td>\n",
       "    </tr>\n",
       "  </tbody>\n",
       "</table>\n",
       "</div>"
      ],
      "text/plain": [
       "   userId  movieId  rating                                       genresOnehot\n",
       "0     196      242       3  [0, 0, 0, 0, 0, 1, 0, 0, 0, 0, 0, 0, 0, 0, 0, ...\n",
       "1     186      302       3  [0, 0, 0, 0, 0, 0, 1, 0, 0, 0, 1, 0, 0, 1, 0, ...\n",
       "2      22      377       1  [0, 0, 0, 0, 1, 1, 0, 0, 0, 0, 0, 0, 0, 0, 0, ...\n",
       "3     244       51       2  [0, 0, 0, 0, 0, 0, 0, 0, 1, 0, 0, 0, 0, 0, 1, ...\n",
       "4     166      346       1  [0, 0, 0, 0, 0, 0, 1, 0, 1, 0, 0, 0, 0, 0, 0, ..."
      ]
     },
     "execution_count": 4,
     "metadata": {},
     "output_type": "execute_result"
    }
   ],
   "source": [
    "# Merge ratings with movies on 'movieId', keeping the 'genres_list' column\n",
    "ratingsRaw = ratingsRaw.merge(moviesRaw[[\"movieId\",\"genresOnehot\"]], on=\"movieId\", how=\"left\")\n",
    "\n",
    "\n",
    "ratingsRaw[[\"userId\", \"movieId\", \"rating\",\"genresOnehot\"]].head()"
   ]
  },
  {
   "cell_type": "code",
   "execution_count": null,
   "metadata": {},
   "outputs": [
    {
     "data": {
      "application/vnd.microsoft.datawrangler.viewer.v0+json": {
       "columns": [
        {
         "name": "index",
         "rawType": "int64",
         "type": "integer"
        },
        {
         "name": "userId",
         "rawType": "int64",
         "type": "integer"
        },
        {
         "name": "movieId",
         "rawType": "int64",
         "type": "integer"
        },
        {
         "name": "rating",
         "rawType": "int64",
         "type": "integer"
        },
        {
         "name": "timestamp",
         "rawType": "int64",
         "type": "integer"
        },
        {
         "name": "genresOnehot",
         "rawType": "object",
         "type": "unknown"
        },
        {
         "name": "userEmbedding",
         "rawType": "object",
         "type": "unknown"
        }
       ],
       "conversionMethod": "pd.DataFrame",
       "ref": "2e2e3fea-8351-477c-b2cd-59edf359c3c2",
       "rows": [
        [
         "0",
         "196",
         "242",
         "3",
         "881250949",
         "[0, 0, 0, 0, 0, 1, 0, 0, 0, 0, 0, 0, 0, 0, 0, 0, 0, 0, 0]",
         "[0.         0.04385965 0.0877193  0.         0.07017544 1.\n 0.         0.03508772 0.39473684 0.03508772 0.         0.\n 0.         0.         0.34210526 0.05263158 0.         0.05263158\n 0.        ]"
        ],
        [
         "1",
         "186",
         "302",
         "3",
         "891717742",
         "[0, 0, 0, 0, 0, 0, 1, 0, 0, 0, 1, 0, 0, 1, 0, 0, 1, 0, 0]",
         "[0.         0.58469945 0.24590164 0.09836066 0.18579235 0.21311475\n 0.20218579 0.         0.4863388  0.0273224  0.04371585 0.01092896\n 0.08743169 0.20765027 0.13114754 0.1147541  1.         0.03278689\n 0.07650273]"
        ],
        [
         "2",
         "22",
         "377",
         "1",
         "878887116",
         "[0, 0, 0, 0, 1, 1, 0, 0, 0, 0, 0, 0, 0, 0, 0, 0, 0, 0, 0]",
         "[0.         1.         0.48594378 0.         0.04016064 0.86345382\n 0.12851406 0.         0.28514056 0.00401606 0.02008032 0.07630522\n 0.06827309 0.01204819 0.27710843 0.38955823 0.34939759 0.22088353\n 0.06827309]"
        ],
        [
         "3",
         "244",
         "51",
         "2",
         "880606923",
         "[0, 0, 0, 0, 0, 0, 0, 0, 1, 0, 0, 0, 0, 0, 1, 0, 0, 1, 1]",
         "[0.         0.37789203 0.1748072  0.09511568 0.0848329  0.93059126\n 0.07969152 0.00514139 1.         0.02056555 0.02056555 0.0848329\n 0.09511568 0.03856041 0.50642674 0.20822622 0.2622108  0.19794344\n 0.03084833]"
        ],
        [
         "4",
         "166",
         "346",
         "1",
         "886397596",
         "[0, 0, 0, 0, 0, 0, 1, 0, 1, 0, 0, 0, 0, 0, 0, 0, 0, 0, 0]",
         "[0.         0.81081081 0.         0.         0.18918919 0.51351351\n 0.02702703 0.         0.51351351 0.         0.         0.18918919\n 0.         0.27027027 0.45945946 0.21621622 1.         0.05405405\n 0.        ]"
        ]
       ],
       "shape": {
        "columns": 6,
        "rows": 5
       }
      },
      "text/html": [
       "<div>\n",
       "<style scoped>\n",
       "    .dataframe tbody tr th:only-of-type {\n",
       "        vertical-align: middle;\n",
       "    }\n",
       "\n",
       "    .dataframe tbody tr th {\n",
       "        vertical-align: top;\n",
       "    }\n",
       "\n",
       "    .dataframe thead th {\n",
       "        text-align: right;\n",
       "    }\n",
       "</style>\n",
       "<table border=\"1\" class=\"dataframe\">\n",
       "  <thead>\n",
       "    <tr style=\"text-align: right;\">\n",
       "      <th></th>\n",
       "      <th>userId</th>\n",
       "      <th>movieId</th>\n",
       "      <th>rating</th>\n",
       "      <th>timestamp</th>\n",
       "      <th>genresOnehot</th>\n",
       "      <th>userEmbedding</th>\n",
       "    </tr>\n",
       "  </thead>\n",
       "  <tbody>\n",
       "    <tr>\n",
       "      <th>0</th>\n",
       "      <td>196</td>\n",
       "      <td>242</td>\n",
       "      <td>3</td>\n",
       "      <td>881250949</td>\n",
       "      <td>[0, 0, 0, 0, 0, 1, 0, 0, 0, 0, 0, 0, 0, 0, 0, ...</td>\n",
       "      <td>[0.0, 0.043859649122807015, 0.0877192982456140...</td>\n",
       "    </tr>\n",
       "    <tr>\n",
       "      <th>1</th>\n",
       "      <td>186</td>\n",
       "      <td>302</td>\n",
       "      <td>3</td>\n",
       "      <td>891717742</td>\n",
       "      <td>[0, 0, 0, 0, 0, 0, 1, 0, 0, 0, 1, 0, 0, 1, 0, ...</td>\n",
       "      <td>[0.0, 0.5846994535519126, 0.2459016393442623, ...</td>\n",
       "    </tr>\n",
       "    <tr>\n",
       "      <th>2</th>\n",
       "      <td>22</td>\n",
       "      <td>377</td>\n",
       "      <td>1</td>\n",
       "      <td>878887116</td>\n",
       "      <td>[0, 0, 0, 0, 1, 1, 0, 0, 0, 0, 0, 0, 0, 0, 0, ...</td>\n",
       "      <td>[0.0, 1.0, 0.4859437751004016, 0.0, 0.04016064...</td>\n",
       "    </tr>\n",
       "    <tr>\n",
       "      <th>3</th>\n",
       "      <td>244</td>\n",
       "      <td>51</td>\n",
       "      <td>2</td>\n",
       "      <td>880606923</td>\n",
       "      <td>[0, 0, 0, 0, 0, 0, 0, 0, 1, 0, 0, 0, 0, 0, 1, ...</td>\n",
       "      <td>[0.0, 0.37789203084832906, 0.17480719794344474...</td>\n",
       "    </tr>\n",
       "    <tr>\n",
       "      <th>4</th>\n",
       "      <td>166</td>\n",
       "      <td>346</td>\n",
       "      <td>1</td>\n",
       "      <td>886397596</td>\n",
       "      <td>[0, 0, 0, 0, 0, 0, 1, 0, 1, 0, 0, 0, 0, 0, 0, ...</td>\n",
       "      <td>[0.0, 0.8108108108108109, 0.0, 0.0, 0.18918918...</td>\n",
       "    </tr>\n",
       "  </tbody>\n",
       "</table>\n",
       "</div>"
      ],
      "text/plain": [
       "   userId  movieId  rating  timestamp  \\\n",
       "0     196      242       3  881250949   \n",
       "1     186      302       3  891717742   \n",
       "2      22      377       1  878887116   \n",
       "3     244       51       2  880606923   \n",
       "4     166      346       1  886397596   \n",
       "\n",
       "                                        genresOnehot  \\\n",
       "0  [0, 0, 0, 0, 0, 1, 0, 0, 0, 0, 0, 0, 0, 0, 0, ...   \n",
       "1  [0, 0, 0, 0, 0, 0, 1, 0, 0, 0, 1, 0, 0, 1, 0, ...   \n",
       "2  [0, 0, 0, 0, 1, 1, 0, 0, 0, 0, 0, 0, 0, 0, 0, ...   \n",
       "3  [0, 0, 0, 0, 0, 0, 0, 0, 1, 0, 0, 0, 0, 0, 1, ...   \n",
       "4  [0, 0, 0, 0, 0, 0, 1, 0, 1, 0, 0, 0, 0, 0, 0, ...   \n",
       "\n",
       "                                       userEmbedding  \n",
       "0  [0.0, 0.043859649122807015, 0.0877192982456140...  \n",
       "1  [0.0, 0.5846994535519126, 0.2459016393442623, ...  \n",
       "2  [0.0, 1.0, 0.4859437751004016, 0.0, 0.04016064...  \n",
       "3  [0.0, 0.37789203084832906, 0.17480719794344474...  \n",
       "4  [0.0, 0.8108108108108109, 0.0, 0.0, 0.18918918...  "
      ]
     },
     "execution_count": 5,
     "metadata": {},
     "output_type": "execute_result"
    }
   ],
   "source": [
    "def userEmbedding(id):\n",
    "    \n",
    "    ratings = np.array(ratingsRaw[ratingsRaw[\"userId\"] == id][\"rating\"])\n",
    "    genres = np.array((ratingsRaw[ratingsRaw[\"userId\"] == id][\"genresOnehot\"]).tolist())\n",
    "    result = sum(ratings[:, np.newaxis] * genres)\n",
    "    \n",
    "    return (result - result.min()) / (result.max() - result.min())\n",
    "\n",
    "# Apply function to all unique userIds\n",
    "user_embeddings = {id: userEmbedding(id) for id in ratingsRaw[\"userId\"].unique()}\n",
    "\n",
    "# Convert to DataFrame\n",
    "embeddings_df = pd.DataFrame(user_embeddings.items(), columns=[\"userId\", \"userEmbedding\"])\n",
    "\n",
    "# Merge back into `ratingsRaw`\n",
    "ratingsRaw = ratingsRaw.merge(embeddings_df, on=\"userId\", how=\"left\")\n",
    "\n",
    "ratingsRaw.head()\n"
   ]
  },
  {
   "cell_type": "code",
   "execution_count": 7,
   "metadata": {},
   "outputs": [
    {
     "name": "stdout",
     "output_type": "stream",
     "text": [
      "Movie with ID 2: GoldenEye (1995)\n"
     ]
    }
   ],
   "source": [
    "\n",
    "# Function to translate from movie id to movie title\n",
    "def idToTitle(movie_id):\n",
    "    # Filter the movies DataFrame where movieId matches and return the title\n",
    "    movie = moviesRaw[moviesRaw['movieId'] == movie_id]['movie title'].values\n",
    "    # Return the first match (or None if no match found)\n",
    "    return movie[0] if len(movie) > 0 else None\n",
    "\n",
    "# Example usage\n",
    "movie_title = idToTitle(2)\n",
    "print(f\"Movie with ID 2: {movie_title}\")"
   ]
  },
  {
   "cell_type": "markdown",
   "metadata": {},
   "source": [
    "It is important to check that the distribution of the ID's is sequential. So that we do not confuse the model and make more inneficient.\n"
   ]
  },
  {
   "cell_type": "code",
   "execution_count": 8,
   "metadata": {},
   "outputs": [
    {
     "name": "stdout",
     "output_type": "stream",
     "text": [
      "Min User ID: 1     |    Max User ID: 943\n",
      "Min Movie ID: 1     |    Max Movie ID: 1682\n",
      "\n",
      "\n",
      "Unique User IDs: 943\n",
      "Unique Movie IDs: 1682\n"
     ]
    }
   ],
   "source": [
    "\n",
    "\n",
    "print(\"Min User ID:\", ratingsRaw[\"userId\"].min(),  \"    |    Max User ID:\", ratingsRaw[\"userId\"].max())\n",
    "print(\"Min Movie ID:\", ratingsRaw[\"movieId\"].min(),\"    |    Max Movie ID:\", ratingsRaw[\"movieId\"].max())\n",
    "\n",
    "print(\"\\n\")\n",
    "\n",
    "print(\"Unique User IDs:\", len(ratingsRaw[\"userId\"].unique()))\n",
    "print(\"Unique Movie IDs:\", len(ratingsRaw[\"movieId\"].unique()))\n"
   ]
  },
  {
   "cell_type": "code",
   "execution_count": 9,
   "metadata": {},
   "outputs": [
    {
     "name": "stdout",
     "output_type": "stream",
     "text": [
      "Shape of ratings dataset: (100000, 6)\n"
     ]
    }
   ],
   "source": [
    "print(\"Shape of ratings dataset:\",ratingsRaw.shape)\n"
   ]
  },
  {
   "cell_type": "markdown",
   "metadata": {},
   "source": [
    "### Divide the dataset into training, validation and test"
   ]
  },
  {
   "cell_type": "code",
   "execution_count": 10,
   "metadata": {},
   "outputs": [],
   "source": [
    "\n",
    "# Convert to Pandas DataFrame for splitting\n",
    "train_data, test_data = train_test_split(ratingsRaw, test_size=0.2, random_state=33)\n",
    "train_data, val_data = train_test_split(train_data, test_size=0.1, random_state=33)  # 10% of training as validation\n"
   ]
  },
  {
   "cell_type": "markdown",
   "metadata": {},
   "source": [
    "## DATASET "
   ]
  },
  {
   "cell_type": "code",
   "execution_count": null,
   "metadata": {},
   "outputs": [],
   "source": [
    "\n",
    "class MovieLensDataset(Dataset):\n",
    "    def __init__(self, ratings_df):\n",
    "        \n",
    "        self.ratings = ratings_df\n",
    "\n",
    "    def __len__(self):\n",
    "        return len(self.ratings)\n",
    "\n",
    "    def __getitem__(self, idx):\n",
    "        row = self.ratings.iloc[idx]\n",
    "         \n",
    "        # User embedding of watched movies\n",
    "        userEmbedding = torch.tensor(row[\"userEmbedding\"], dtype=torch.float32) \n",
    "        \n",
    "        # Target movie genres\n",
    "        genresOnehot = torch.tensor(row[\"genresOnehot\"], dtype=torch.float32)\n",
    "        \n",
    "        # Target movie rating\n",
    "        rating = torch.tensor(row[\"rating\"], dtype=torch.float32)\n",
    "        \n",
    "\n",
    "        return userEmbedding, genresOnehot, rating\n",
    "\n",
    "\n",
    "\n",
    "# Convert splits back to Dataset format\n",
    "train_dataset = MovieLensDataset(train_data)\n",
    "val_dataset = MovieLensDataset(val_data)\n",
    "test_dataset = MovieLensDataset(test_data)\n",
    "\n",
    "# Create DataLoaders\n",
    "train_loader = DataLoader(train_dataset, batch_size=64, shuffle=True)\n",
    "val_loader = DataLoader(val_dataset, batch_size=64, shuffle=False)\n",
    "test_loader = DataLoader(test_dataset, batch_size=64, shuffle=False)\n",
    "\n"
   ]
  },
  {
   "cell_type": "markdown",
   "metadata": {},
   "source": [
    "# BUILD THE MODEL"
   ]
  },
  {
   "cell_type": "code",
   "execution_count": 32,
   "metadata": {},
   "outputs": [],
   "source": [
    "import torch\n",
    "import torch.nn as nn\n",
    "import torch.optim as optim\n",
    "from torch.utils.data import DataLoader\n",
    "\n",
    "class RecommenderNN(nn.Module):\n",
    "    def __init__(self, num_genres):\n",
    "        super(RecommenderNN, self).__init__()\n",
    "\n",
    "        # Feedforward layers\n",
    "        self.fc1 = nn.Linear(num_genres * 2, 256)\n",
    "        self.fc2 = nn.Linear(256, 64)\n",
    "        self.fc3 = nn.Linear(64, 1)  # Output is a single predicted rating\n",
    "\n",
    "        # Activation and dropout\n",
    "        self.relu = nn.ReLU()\n",
    "        self.dropout = nn.Dropout(0.2)\n",
    "\n",
    "    def forward(self, userEmbedding,genresOnehot):\n",
    "    \n",
    "        # Concatenate user and movie embeddings\n",
    "        x = torch.cat([userEmbedding, genresOnehot], dim=1)\n",
    "\n",
    "        # Forward pass through feedforward layers\n",
    "        x = self.relu(self.fc1(x))\n",
    "        x = self.dropout(x)\n",
    "        x = self.relu(self.fc2(x))\n",
    "        x = self.fc3(x)  # Output raw prediction\n",
    "\n",
    "        return x.squeeze()  # Remove extra dimension\n"
   ]
  },
  {
   "cell_type": "code",
   "execution_count": 33,
   "metadata": {},
   "outputs": [],
   "source": [
    "\n",
    "# Initialize the model\n",
    "model = RecommenderNN(19)\n",
    "\n",
    "criterion = nn.MSELoss()  # Regression task\n",
    "optimizer = optim.Adam(model.parameters(), lr=0.001)\n"
   ]
  },
  {
   "cell_type": "code",
   "execution_count": 34,
   "metadata": {},
   "outputs": [
    {
     "name": "stdout",
     "output_type": "stream",
     "text": [
      "Epoch 1/50, Train Loss: 1.4063, Val Loss: 1.0028\n",
      "Epoch 2/50, Train Loss: 1.2071, Val Loss: 0.9731\n",
      "Epoch 3/50, Train Loss: 1.1928, Val Loss: 1.1198\n",
      "Epoch 4/50, Train Loss: 1.1843, Val Loss: 1.4174\n",
      "Epoch 5/50, Train Loss: 1.1770, Val Loss: 1.1746\n",
      "Epoch 6/50, Train Loss: 1.1725, Val Loss: 1.1410\n",
      "Epoch 7/50, Train Loss: 1.1653, Val Loss: 1.4349\n",
      "Early stopping triggered at epoch 7. Best Validation Loss: 0.9731\n"
     ]
    }
   ],
   "source": [
    "# Move model to GPU if available\n",
    "device = torch.device(\"cuda\" if torch.cuda.is_available() else \"cpu\")\n",
    "model.to(device)\n",
    "\n",
    "# Training loop with Early Stopping\n",
    "num_epochs = 50  # Max epochs (can be large since early stopping will prevent overfitting)\n",
    "patience = 5     # Number of epochs to wait before stopping\n",
    "best_val_loss = float('inf')\n",
    "patience_counter = 0\n",
    "\n",
    "for epoch in range(num_epochs):\n",
    "    model.train()  # Set model to training mode\n",
    "    total_train_loss = 0\n",
    "\n",
    "    for userEmbedding, genresOnehot, rating in train_loader:\n",
    "        userEmbedding, genresOnehot, rating = userEmbedding.to(device), genresOnehot.to(device), rating.to(device)\n",
    "\n",
    "        optimizer.zero_grad()\n",
    "        prediction = model(userEmbedding,genresOnehot)\n",
    "        loss = criterion(prediction, rating)\n",
    "        loss.backward()\n",
    "        optimizer.step()\n",
    "\n",
    "        total_train_loss += loss.item()\n",
    "\n",
    "    # Validation step (NO gradient update)\n",
    "    model.eval()\n",
    "    total_val_loss = 0\n",
    "    with torch.no_grad():\n",
    "        for userEmbedding, genresOnehot, rating in val_loader:\n",
    "            \n",
    "            userEmbedding, genresOnehot, rating = userEmbedding.to(device), genresOnehot.to(device), rating.to(device)\n",
    "            optimizer.zero_grad()\n",
    "            prediction = model(userEmbedding,genresOnehot)\n",
    "            total_val_loss += loss.item()\n",
    "            \n",
    "\n",
    "    avg_train_loss = total_train_loss / len(train_loader)\n",
    "    avg_val_loss = total_val_loss / len(val_loader)\n",
    "\n",
    "    print(f\"Epoch {epoch+1}/{num_epochs}, Train Loss: {avg_train_loss:.4f}, Val Loss: {avg_val_loss:.4f}\")\n",
    "\n",
    "    # Early stopping logic\n",
    "    if avg_val_loss < best_val_loss:\n",
    "        best_val_loss = avg_val_loss\n",
    "        patience_counter = 0  # Reset counter\n",
    "        torch.save(model, \"genresModel.pth\")  # Save the best model\n",
    "    else:\n",
    "        patience_counter += 1\n",
    "\n",
    "    if patience_counter >= patience:\n",
    "        print(f\"Early stopping triggered at epoch {epoch+1}. Best Validation Loss: {best_val_loss:.4f}\")\n",
    "        break  # Stop training\n",
    "\n"
   ]
  },
  {
   "cell_type": "markdown",
   "metadata": {},
   "source": [
    "## Test set evaluation"
   ]
  },
  {
   "cell_type": "code",
   "execution_count": null,
   "metadata": {},
   "outputs": [],
   "source": [
    "model.eval()  # Set model to evaluation mode\n",
    "total_test_loss = 0\n",
    "\n",
    "for user_ids, movie_ids, ratings in test_loader:\n",
    "    user_ids, movie_ids, ratings = user_ids.to(device), movie_ids.to(device), ratings.to(device)\n",
    "\n",
    "    predictions = model(user_ids,movie_ids)\n",
    "    loss = criterion(predictions, ratings)\n",
    "    total_test_loss += loss.item()\n",
    "\n",
    "print(f\"MSE for test set: {total_test_loss/len(test_loader):.4f}\")"
   ]
  },
  {
   "cell_type": "markdown",
   "metadata": {},
   "source": [
    "## Reccomendation example"
   ]
  },
  {
   "cell_type": "code",
   "execution_count": null,
   "metadata": {},
   "outputs": [],
   "source": [
    "def predict_rating(model, user_id, movie_id):\n",
    "    # Set model to evaluation mode\n",
    "    model.eval()\n",
    "    \n",
    "    # Convert IDs to tensors\n",
    "    user = torch.tensor([user_id], dtype=torch.long)\n",
    "    movie = torch.tensor([movie_id], dtype=torch.long)\n",
    "    \n",
    "    # Get prediction\n",
    "    with torch.no_grad():\n",
    "        prediction = model(user, movie)\n",
    "    \n",
    "    # Convert prediction to rating scale\n",
    "    predicted_rating = prediction.item()\n",
    "    \n",
    "    # Get movie title for better context\n",
    "    movie_title = idToTitle(movie_id)\n",
    "    \n",
    "    return predicted_rating\n",
    "    \n",
    "    print(f\"Predicted rating for User {user_id} watching '{movie_title}': {predicted_rating:.2f}\")\n",
    "\n",
    " "
   ]
  },
  {
   "cell_type": "code",
   "execution_count": null,
   "metadata": {},
   "outputs": [],
   "source": [
    "def getRecommnedationsForUser(userID):\n",
    "    \n",
    "    ratedMovies = {}\n",
    "    \n",
    "    for movie_id in np.unique(ratingsRaw[\"movieId\"]):\n",
    "        rating = predict_rating(model, userID, movie_id)\n",
    "        ratedMovies[idToTitle(movie_id)] = rating\n",
    "        \n",
    "    sorted_movies = dict(sorted(ratedMovies.items(), key=lambda item: item[1], reverse=True)[:10])\n",
    "    \n",
    "    for movie in sorted_movies:\n",
    "        print(f\"{movie}, {sorted_movies[movie]:.2f}\")"
   ]
  },
  {
   "cell_type": "code",
   "execution_count": null,
   "metadata": {},
   "outputs": [],
   "source": [
    "getRecommnedationsForUser(1)"
   ]
  },
  {
   "cell_type": "code",
   "execution_count": null,
   "metadata": {},
   "outputs": [],
   "source": [
    "getRecommnedationsForUser(2)"
   ]
  },
  {
   "cell_type": "code",
   "execution_count": null,
   "metadata": {},
   "outputs": [],
   "source": [
    "getRecommnedationsForUser(3)"
   ]
  },
  {
   "cell_type": "markdown",
   "metadata": {},
   "source": [
    "## LOAD THE MODEL"
   ]
  },
  {
   "cell_type": "code",
   "execution_count": null,
   "metadata": {},
   "outputs": [],
   "source": [
    "model = torch.load(\"+genresModel.pth\",weights_only=False)"
   ]
  }
 ],
 "metadata": {
  "kernelspec": {
   "display_name": "DeepLearnConda",
   "language": "python",
   "name": "python3"
  },
  "language_info": {
   "codemirror_mode": {
    "name": "ipython",
    "version": 3
   },
   "file_extension": ".py",
   "mimetype": "text/x-python",
   "name": "python",
   "nbconvert_exporter": "python",
   "pygments_lexer": "ipython3",
   "version": "3.10.12"
  }
 },
 "nbformat": 4,
 "nbformat_minor": 2
}
