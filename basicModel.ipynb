{
 "cells": [
  {
   "cell_type": "markdown",
   "metadata": {},
   "source": [
    "# DATA EXPLORATION\n"
   ]
  },
  {
   "cell_type": "code",
   "execution_count": 3,
   "metadata": {},
   "outputs": [
    {
     "data": {
      "text/plain": [
       "<torch._C.Generator at 0x70b50d316470>"
      ]
     },
     "execution_count": 3,
     "metadata": {},
     "output_type": "execute_result"
    }
   ],
   "source": [
    "# IMPORTS AND SEED SETTING\n",
    "\n",
    "import numpy as np\n",
    "import pandas as pd\n",
    "import matplotlib.pyplot as plt\n",
    "import torch\n",
    "import torch.nn as nn\n",
    "import torch.optim as optim\n",
    "import torchvision\n",
    "import torchvision.transforms as transforms\n",
    "from torch.utils.data import Dataset, DataLoader, random_split\n",
    "from sklearn.model_selection import train_test_split\n",
    "import matplotlib.pyplot as plt\n",
    "\n",
    "\n",
    "\n",
    "torch.manual_seed(33)  \n"
   ]
  },
  {
   "cell_type": "code",
   "execution_count": 4,
   "metadata": {},
   "outputs": [
    {
     "data": {
      "application/vnd.microsoft.datawrangler.viewer.v0+json": {
       "columns": [
        {
         "name": "index",
         "rawType": "int64",
         "type": "integer"
        },
        {
         "name": "userId",
         "rawType": "int64",
         "type": "integer"
        },
        {
         "name": "movieId",
         "rawType": "int64",
         "type": "integer"
        },
        {
         "name": "rating",
         "rawType": "int64",
         "type": "integer"
        },
        {
         "name": "timestamp",
         "rawType": "int64",
         "type": "integer"
        }
       ],
       "conversionMethod": "pd.DataFrame",
       "ref": "f9d4c1f9-4f56-4697-8c30-93b8e05ad0bb",
       "rows": [
        [
         "0",
         "196",
         "242",
         "3",
         "881250949"
        ],
        [
         "1",
         "186",
         "302",
         "3",
         "891717742"
        ],
        [
         "2",
         "22",
         "377",
         "1",
         "878887116"
        ],
        [
         "3",
         "244",
         "51",
         "2",
         "880606923"
        ],
        [
         "4",
         "166",
         "346",
         "1",
         "886397596"
        ]
       ],
       "shape": {
        "columns": 4,
        "rows": 5
       }
      },
      "text/html": [
       "<div>\n",
       "<style scoped>\n",
       "    .dataframe tbody tr th:only-of-type {\n",
       "        vertical-align: middle;\n",
       "    }\n",
       "\n",
       "    .dataframe tbody tr th {\n",
       "        vertical-align: top;\n",
       "    }\n",
       "\n",
       "    .dataframe thead th {\n",
       "        text-align: right;\n",
       "    }\n",
       "</style>\n",
       "<table border=\"1\" class=\"dataframe\">\n",
       "  <thead>\n",
       "    <tr style=\"text-align: right;\">\n",
       "      <th></th>\n",
       "      <th>userId</th>\n",
       "      <th>movieId</th>\n",
       "      <th>rating</th>\n",
       "      <th>timestamp</th>\n",
       "    </tr>\n",
       "  </thead>\n",
       "  <tbody>\n",
       "    <tr>\n",
       "      <th>0</th>\n",
       "      <td>196</td>\n",
       "      <td>242</td>\n",
       "      <td>3</td>\n",
       "      <td>881250949</td>\n",
       "    </tr>\n",
       "    <tr>\n",
       "      <th>1</th>\n",
       "      <td>186</td>\n",
       "      <td>302</td>\n",
       "      <td>3</td>\n",
       "      <td>891717742</td>\n",
       "    </tr>\n",
       "    <tr>\n",
       "      <th>2</th>\n",
       "      <td>22</td>\n",
       "      <td>377</td>\n",
       "      <td>1</td>\n",
       "      <td>878887116</td>\n",
       "    </tr>\n",
       "    <tr>\n",
       "      <th>3</th>\n",
       "      <td>244</td>\n",
       "      <td>51</td>\n",
       "      <td>2</td>\n",
       "      <td>880606923</td>\n",
       "    </tr>\n",
       "    <tr>\n",
       "      <th>4</th>\n",
       "      <td>166</td>\n",
       "      <td>346</td>\n",
       "      <td>1</td>\n",
       "      <td>886397596</td>\n",
       "    </tr>\n",
       "  </tbody>\n",
       "</table>\n",
       "</div>"
      ],
      "text/plain": [
       "   userId  movieId  rating  timestamp\n",
       "0     196      242       3  881250949\n",
       "1     186      302       3  891717742\n",
       "2      22      377       1  878887116\n",
       "3     244       51       2  880606923\n",
       "4     166      346       1  886397596"
      ]
     },
     "execution_count": 4,
     "metadata": {},
     "output_type": "execute_result"
    }
   ],
   "source": [
    "\n",
    "ratingsRaw = pd.read_csv(\"ml-100k/u.data\", sep = \"\\t\", header = None, names=[\"userId\", \"movieId\", \"rating\", \"timestamp\"]) \n",
    "\n",
    "ratingsRaw.head()"
   ]
  },
  {
   "cell_type": "code",
   "execution_count": 5,
   "metadata": {},
   "outputs": [
    {
     "data": {
      "application/vnd.microsoft.datawrangler.viewer.v0+json": {
       "columns": [
        {
         "name": "index",
         "rawType": "int64",
         "type": "integer"
        },
        {
         "name": "movieId",
         "rawType": "int64",
         "type": "integer"
        },
        {
         "name": "movie title",
         "rawType": "object",
         "type": "string"
        },
        {
         "name": "release date",
         "rawType": "object",
         "type": "string"
        },
        {
         "name": "video release date",
         "rawType": "float64",
         "type": "float"
        },
        {
         "name": "IMDb URL",
         "rawType": "object",
         "type": "string"
        },
        {
         "name": "unknown",
         "rawType": "int64",
         "type": "integer"
        },
        {
         "name": "Action",
         "rawType": "int64",
         "type": "integer"
        },
        {
         "name": "Adventure",
         "rawType": "int64",
         "type": "integer"
        },
        {
         "name": "Animation",
         "rawType": "int64",
         "type": "integer"
        },
        {
         "name": "Children's",
         "rawType": "int64",
         "type": "integer"
        },
        {
         "name": "Comedy",
         "rawType": "int64",
         "type": "integer"
        },
        {
         "name": "Crime",
         "rawType": "int64",
         "type": "integer"
        },
        {
         "name": "Documentary",
         "rawType": "int64",
         "type": "integer"
        },
        {
         "name": "Drama",
         "rawType": "int64",
         "type": "integer"
        },
        {
         "name": "Fantasy",
         "rawType": "int64",
         "type": "integer"
        },
        {
         "name": "Film-Noir",
         "rawType": "int64",
         "type": "integer"
        },
        {
         "name": "Horror",
         "rawType": "int64",
         "type": "integer"
        },
        {
         "name": "Musical",
         "rawType": "int64",
         "type": "integer"
        },
        {
         "name": "Mystery",
         "rawType": "int64",
         "type": "integer"
        },
        {
         "name": "Romance",
         "rawType": "int64",
         "type": "integer"
        },
        {
         "name": "Sci-Fi",
         "rawType": "int64",
         "type": "integer"
        },
        {
         "name": "Thriller",
         "rawType": "int64",
         "type": "integer"
        },
        {
         "name": "War",
         "rawType": "int64",
         "type": "integer"
        },
        {
         "name": "Western",
         "rawType": "int64",
         "type": "integer"
        }
       ],
       "conversionMethod": "pd.DataFrame",
       "ref": "b0981ace-0fb4-4aba-9efc-98b0203f6f6c",
       "rows": [
        [
         "0",
         "1",
         "Toy Story (1995)",
         "01-Jan-1995",
         null,
         "http://us.imdb.com/M/title-exact?Toy%20Story%20(1995)",
         "0",
         "0",
         "0",
         "1",
         "1",
         "1",
         "0",
         "0",
         "0",
         "0",
         "0",
         "0",
         "0",
         "0",
         "0",
         "0",
         "0",
         "0",
         "0"
        ],
        [
         "1",
         "2",
         "GoldenEye (1995)",
         "01-Jan-1995",
         null,
         "http://us.imdb.com/M/title-exact?GoldenEye%20(1995)",
         "0",
         "1",
         "1",
         "0",
         "0",
         "0",
         "0",
         "0",
         "0",
         "0",
         "0",
         "0",
         "0",
         "0",
         "0",
         "0",
         "1",
         "0",
         "0"
        ],
        [
         "2",
         "3",
         "Four Rooms (1995)",
         "01-Jan-1995",
         null,
         "http://us.imdb.com/M/title-exact?Four%20Rooms%20(1995)",
         "0",
         "0",
         "0",
         "0",
         "0",
         "0",
         "0",
         "0",
         "0",
         "0",
         "0",
         "0",
         "0",
         "0",
         "0",
         "0",
         "1",
         "0",
         "0"
        ],
        [
         "3",
         "4",
         "Get Shorty (1995)",
         "01-Jan-1995",
         null,
         "http://us.imdb.com/M/title-exact?Get%20Shorty%20(1995)",
         "0",
         "1",
         "0",
         "0",
         "0",
         "1",
         "0",
         "0",
         "1",
         "0",
         "0",
         "0",
         "0",
         "0",
         "0",
         "0",
         "0",
         "0",
         "0"
        ],
        [
         "4",
         "5",
         "Copycat (1995)",
         "01-Jan-1995",
         null,
         "http://us.imdb.com/M/title-exact?Copycat%20(1995)",
         "0",
         "0",
         "0",
         "0",
         "0",
         "0",
         "1",
         "0",
         "1",
         "0",
         "0",
         "0",
         "0",
         "0",
         "0",
         "0",
         "1",
         "0",
         "0"
        ]
       ],
       "shape": {
        "columns": 24,
        "rows": 5
       }
      },
      "text/html": [
       "<div>\n",
       "<style scoped>\n",
       "    .dataframe tbody tr th:only-of-type {\n",
       "        vertical-align: middle;\n",
       "    }\n",
       "\n",
       "    .dataframe tbody tr th {\n",
       "        vertical-align: top;\n",
       "    }\n",
       "\n",
       "    .dataframe thead th {\n",
       "        text-align: right;\n",
       "    }\n",
       "</style>\n",
       "<table border=\"1\" class=\"dataframe\">\n",
       "  <thead>\n",
       "    <tr style=\"text-align: right;\">\n",
       "      <th></th>\n",
       "      <th>movieId</th>\n",
       "      <th>movie title</th>\n",
       "      <th>release date</th>\n",
       "      <th>video release date</th>\n",
       "      <th>IMDb URL</th>\n",
       "      <th>unknown</th>\n",
       "      <th>Action</th>\n",
       "      <th>Adventure</th>\n",
       "      <th>Animation</th>\n",
       "      <th>Children's</th>\n",
       "      <th>...</th>\n",
       "      <th>Fantasy</th>\n",
       "      <th>Film-Noir</th>\n",
       "      <th>Horror</th>\n",
       "      <th>Musical</th>\n",
       "      <th>Mystery</th>\n",
       "      <th>Romance</th>\n",
       "      <th>Sci-Fi</th>\n",
       "      <th>Thriller</th>\n",
       "      <th>War</th>\n",
       "      <th>Western</th>\n",
       "    </tr>\n",
       "  </thead>\n",
       "  <tbody>\n",
       "    <tr>\n",
       "      <th>0</th>\n",
       "      <td>1</td>\n",
       "      <td>Toy Story (1995)</td>\n",
       "      <td>01-Jan-1995</td>\n",
       "      <td>NaN</td>\n",
       "      <td>http://us.imdb.com/M/title-exact?Toy%20Story%2...</td>\n",
       "      <td>0</td>\n",
       "      <td>0</td>\n",
       "      <td>0</td>\n",
       "      <td>1</td>\n",
       "      <td>1</td>\n",
       "      <td>...</td>\n",
       "      <td>0</td>\n",
       "      <td>0</td>\n",
       "      <td>0</td>\n",
       "      <td>0</td>\n",
       "      <td>0</td>\n",
       "      <td>0</td>\n",
       "      <td>0</td>\n",
       "      <td>0</td>\n",
       "      <td>0</td>\n",
       "      <td>0</td>\n",
       "    </tr>\n",
       "    <tr>\n",
       "      <th>1</th>\n",
       "      <td>2</td>\n",
       "      <td>GoldenEye (1995)</td>\n",
       "      <td>01-Jan-1995</td>\n",
       "      <td>NaN</td>\n",
       "      <td>http://us.imdb.com/M/title-exact?GoldenEye%20(...</td>\n",
       "      <td>0</td>\n",
       "      <td>1</td>\n",
       "      <td>1</td>\n",
       "      <td>0</td>\n",
       "      <td>0</td>\n",
       "      <td>...</td>\n",
       "      <td>0</td>\n",
       "      <td>0</td>\n",
       "      <td>0</td>\n",
       "      <td>0</td>\n",
       "      <td>0</td>\n",
       "      <td>0</td>\n",
       "      <td>0</td>\n",
       "      <td>1</td>\n",
       "      <td>0</td>\n",
       "      <td>0</td>\n",
       "    </tr>\n",
       "    <tr>\n",
       "      <th>2</th>\n",
       "      <td>3</td>\n",
       "      <td>Four Rooms (1995)</td>\n",
       "      <td>01-Jan-1995</td>\n",
       "      <td>NaN</td>\n",
       "      <td>http://us.imdb.com/M/title-exact?Four%20Rooms%...</td>\n",
       "      <td>0</td>\n",
       "      <td>0</td>\n",
       "      <td>0</td>\n",
       "      <td>0</td>\n",
       "      <td>0</td>\n",
       "      <td>...</td>\n",
       "      <td>0</td>\n",
       "      <td>0</td>\n",
       "      <td>0</td>\n",
       "      <td>0</td>\n",
       "      <td>0</td>\n",
       "      <td>0</td>\n",
       "      <td>0</td>\n",
       "      <td>1</td>\n",
       "      <td>0</td>\n",
       "      <td>0</td>\n",
       "    </tr>\n",
       "    <tr>\n",
       "      <th>3</th>\n",
       "      <td>4</td>\n",
       "      <td>Get Shorty (1995)</td>\n",
       "      <td>01-Jan-1995</td>\n",
       "      <td>NaN</td>\n",
       "      <td>http://us.imdb.com/M/title-exact?Get%20Shorty%...</td>\n",
       "      <td>0</td>\n",
       "      <td>1</td>\n",
       "      <td>0</td>\n",
       "      <td>0</td>\n",
       "      <td>0</td>\n",
       "      <td>...</td>\n",
       "      <td>0</td>\n",
       "      <td>0</td>\n",
       "      <td>0</td>\n",
       "      <td>0</td>\n",
       "      <td>0</td>\n",
       "      <td>0</td>\n",
       "      <td>0</td>\n",
       "      <td>0</td>\n",
       "      <td>0</td>\n",
       "      <td>0</td>\n",
       "    </tr>\n",
       "    <tr>\n",
       "      <th>4</th>\n",
       "      <td>5</td>\n",
       "      <td>Copycat (1995)</td>\n",
       "      <td>01-Jan-1995</td>\n",
       "      <td>NaN</td>\n",
       "      <td>http://us.imdb.com/M/title-exact?Copycat%20(1995)</td>\n",
       "      <td>0</td>\n",
       "      <td>0</td>\n",
       "      <td>0</td>\n",
       "      <td>0</td>\n",
       "      <td>0</td>\n",
       "      <td>...</td>\n",
       "      <td>0</td>\n",
       "      <td>0</td>\n",
       "      <td>0</td>\n",
       "      <td>0</td>\n",
       "      <td>0</td>\n",
       "      <td>0</td>\n",
       "      <td>0</td>\n",
       "      <td>1</td>\n",
       "      <td>0</td>\n",
       "      <td>0</td>\n",
       "    </tr>\n",
       "  </tbody>\n",
       "</table>\n",
       "<p>5 rows × 24 columns</p>\n",
       "</div>"
      ],
      "text/plain": [
       "   movieId        movie title release date  video release date  \\\n",
       "0        1   Toy Story (1995)  01-Jan-1995                 NaN   \n",
       "1        2   GoldenEye (1995)  01-Jan-1995                 NaN   \n",
       "2        3  Four Rooms (1995)  01-Jan-1995                 NaN   \n",
       "3        4  Get Shorty (1995)  01-Jan-1995                 NaN   \n",
       "4        5     Copycat (1995)  01-Jan-1995                 NaN   \n",
       "\n",
       "                                            IMDb URL  unknown  Action  \\\n",
       "0  http://us.imdb.com/M/title-exact?Toy%20Story%2...        0       0   \n",
       "1  http://us.imdb.com/M/title-exact?GoldenEye%20(...        0       1   \n",
       "2  http://us.imdb.com/M/title-exact?Four%20Rooms%...        0       0   \n",
       "3  http://us.imdb.com/M/title-exact?Get%20Shorty%...        0       1   \n",
       "4  http://us.imdb.com/M/title-exact?Copycat%20(1995)        0       0   \n",
       "\n",
       "   Adventure  Animation  Children's  ...  Fantasy  Film-Noir  Horror  Musical  \\\n",
       "0          0          1           1  ...        0          0       0        0   \n",
       "1          1          0           0  ...        0          0       0        0   \n",
       "2          0          0           0  ...        0          0       0        0   \n",
       "3          0          0           0  ...        0          0       0        0   \n",
       "4          0          0           0  ...        0          0       0        0   \n",
       "\n",
       "   Mystery  Romance  Sci-Fi  Thriller  War  Western  \n",
       "0        0        0       0         0    0        0  \n",
       "1        0        0       0         1    0        0  \n",
       "2        0        0       0         1    0        0  \n",
       "3        0        0       0         0    0        0  \n",
       "4        0        0       0         1    0        0  \n",
       "\n",
       "[5 rows x 24 columns]"
      ]
     },
     "execution_count": 5,
     "metadata": {},
     "output_type": "execute_result"
    }
   ],
   "source": [
    "\n",
    "# Define column names based on the MovieLens 100k dataset  (check the README)\n",
    "column_names = [\n",
    "    \"movieId\", \"movie title\", \"release date\", \"video release date\", \"IMDb URL\",\n",
    "    \"unknown\", \"Action\", \"Adventure\", \"Animation\", \"Children's\", \"Comedy\", \n",
    "    \"Crime\", \"Documentary\", \"Drama\", \"Fantasy\", \"Film-Noir\", \"Horror\", \n",
    "    \"Musical\", \"Mystery\", \"Romance\", \"Sci-Fi\", \"Thriller\", \"War\", \"Western\"\n",
    "]  \n",
    "\n",
    "# Read the dataset with the correct separator (|)  \n",
    "movies = pd.read_csv(\"ml-100k/u.item\", sep=\"|\", encoding=\"latin-1\", header=None, names=column_names)  \n",
    "\n",
    "# Display the first few rows  \n",
    "movies.head()\n",
    "\n",
    "\n"
   ]
  },
  {
   "cell_type": "code",
   "execution_count": 6,
   "metadata": {},
   "outputs": [
    {
     "name": "stdout",
     "output_type": "stream",
     "text": [
      "Movie with ID 1: Toy Story (1995)\n"
     ]
    }
   ],
   "source": [
    "\n",
    "# Function to translate from movie id to movie title\n",
    "def idToTitle(movie_id):\n",
    "    # Filter the movies DataFrame where movieId matches and return the title\n",
    "    movie = movies[movies['movieId'] == movie_id]['movie title'].values\n",
    "    # Return the first match (or None if no match found)\n",
    "    return movie[0] if len(movie) > 0 else None\n",
    "\n",
    "# Example usage\n",
    "movie_title = idToTitle(1)\n",
    "print(f\"Movie with ID 1: {movie_title}\")"
   ]
  },
  {
   "cell_type": "markdown",
   "metadata": {},
   "source": [
    "It is important to check that the distribution of the ID's is sequential. So that we do not confuse the model and make more inneficient.\n"
   ]
  },
  {
   "cell_type": "code",
   "execution_count": 7,
   "metadata": {},
   "outputs": [
    {
     "name": "stdout",
     "output_type": "stream",
     "text": [
      "Min User ID: 1     |    Max User ID: 943\n",
      "Min Movie ID: 1    |    Max Movie ID: 1682\n",
      "n\n",
      "Unique User IDs: 943\n",
      "Unique Movie IDs: 1682\n"
     ]
    }
   ],
   "source": [
    "\n",
    "\n",
    "print(\"Min User ID:\", ratingsRaw[\"userId\"].min(),  \"    |    Max User ID:\", ratingsRaw[\"userId\"].max())\n",
    "print(\"Min Movie ID:\", ratingsRaw[\"movieId\"].min(),\"   |    Max Movie ID:\", ratingsRaw[\"movieId\"].max())\n",
    "\n",
    "print(\"n\")\n",
    "\n",
    "print(\"Unique User IDs:\", len(ratingsRaw[\"userId\"].unique()))\n",
    "print(\"Unique Movie IDs:\", len(ratingsRaw[\"movieId\"].unique()))\n"
   ]
  },
  {
   "cell_type": "code",
   "execution_count": 8,
   "metadata": {},
   "outputs": [
    {
     "name": "stdout",
     "output_type": "stream",
     "text": [
      "Shape of ratings dataset: (100000, 4)\n"
     ]
    }
   ],
   "source": [
    "print(\"Shape of ratings dataset:\",ratingsRaw.shape)\n"
   ]
  },
  {
   "cell_type": "markdown",
   "metadata": {},
   "source": [
    "### Divide the dataset into training, validation and test"
   ]
  },
  {
   "cell_type": "code",
   "execution_count": 9,
   "metadata": {},
   "outputs": [],
   "source": [
    "\n",
    "# Convert to Pandas DataFrame for splitting\n",
    "train_data, test_data = train_test_split(ratingsRaw, test_size=0.2, random_state=33)\n",
    "train_data, val_data = train_test_split(train_data, test_size=0.1, random_state=33)  # 10% of training as validation\n"
   ]
  },
  {
   "cell_type": "markdown",
   "metadata": {},
   "source": [
    "## DATASET "
   ]
  },
  {
   "cell_type": "code",
   "execution_count": 10,
   "metadata": {},
   "outputs": [
    {
     "name": "stdout",
     "output_type": "stream",
     "text": [
      "First 5 users: tensor([239, 125, 506, 186, 360])\n",
      "First 5 mapped movies: tensor([650, 163, 604, 303, 269])\n",
      "First 5 ratings: tensor([5., 5., 4., 3., 4.])\n"
     ]
    }
   ],
   "source": [
    "\n",
    "class MovieLensDataset(Dataset):\n",
    "    def __init__(self, ratings_df):\n",
    "        \n",
    "        self.ratings = ratings_df\n",
    "\n",
    "    def __len__(self):\n",
    "        return len(self.ratings)\n",
    "\n",
    "    def __getitem__(self, idx):\n",
    "        row = self.ratings.iloc[idx]\n",
    "        user_id = torch.tensor(row[\"userId\"], dtype=torch.long)   \n",
    "        movie_id = torch.tensor(row[\"movieId\"], dtype=torch.long)   \n",
    "        rating = torch.tensor(row[\"rating\"], dtype=torch.float32)\n",
    "        return user_id, movie_id, rating\n",
    "\n",
    "\n",
    "\n",
    "# Convert splits back to Dataset format\n",
    "train_dataset = MovieLensDataset(train_data)\n",
    "val_dataset = MovieLensDataset(val_data)\n",
    "test_dataset = MovieLensDataset(test_data)\n",
    "\n",
    "# Create DataLoaders\n",
    "train_loader = DataLoader(train_dataset, batch_size=64, shuffle=True)\n",
    "val_loader = DataLoader(val_dataset, batch_size=64, shuffle=False)\n",
    "test_loader = DataLoader(test_dataset, batch_size=64, shuffle=False)\n",
    "\n",
    "\n",
    "# Check a batch\n",
    "for batch in train_loader:\n",
    "    u, m, r = batch\n",
    "    print(\"First 5 users:\", u[:5])\n",
    "    print(\"First 5 mapped movies:\", m[:5])\n",
    "    print(\"First 5 ratings:\", r[:5])\n",
    "    \n",
    "    \n",
    "    break\n"
   ]
  },
  {
   "cell_type": "markdown",
   "metadata": {},
   "source": [
    "# BUILD THE MODEL"
   ]
  },
  {
   "cell_type": "code",
   "execution_count": 12,
   "metadata": {},
   "outputs": [],
   "source": [
    "import torch\n",
    "import torch.nn as nn\n",
    "import torch.optim as optim\n",
    "from torch.utils.data import DataLoader\n",
    "\n",
    "class RecommenderNN(nn.Module):\n",
    "    def __init__(self, num_users, num_movies, embedding_dim=32):\n",
    "        super(RecommenderNN, self).__init__()\n",
    "\n",
    "        # Embedding layers for users and movies\n",
    "        self.user_embedding = nn.Embedding(num_users, embedding_dim)\n",
    "        self.movie_embedding = nn.Embedding(num_movies, embedding_dim)\n",
    "\n",
    "        # Feedforward layers\n",
    "        self.fc1 = nn.Linear(embedding_dim * 2, 128)\n",
    "        self.fc2 = nn.Linear(128, 64)\n",
    "        self.fc3 = nn.Linear(64, 1)  # Output is a single predicted rating\n",
    "\n",
    "        # Activation and dropout\n",
    "        self.relu = nn.ReLU()\n",
    "        self.dropout = nn.Dropout(0.2)\n",
    "\n",
    "    def forward(self, user_ids, movie_ids):\n",
    "        # Get embeddings\n",
    "        user_embeds = self.user_embedding(user_ids)\n",
    "        movie_embeds = self.movie_embedding(movie_ids)\n",
    "\n",
    "        # Concatenate user and movie embeddings\n",
    "        x = torch.cat([user_embeds, movie_embeds], dim=1)\n",
    "\n",
    "        # Forward pass through feedforward layers\n",
    "        x = self.relu(self.fc1(x))\n",
    "        x = self.dropout(x)\n",
    "        x = self.relu(self.fc2(x))\n",
    "        x = self.fc3(x)  # Output raw prediction\n",
    "\n",
    "        return x.squeeze()  # Remove extra dimension\n"
   ]
  },
  {
   "cell_type": "code",
   "execution_count": 13,
   "metadata": {},
   "outputs": [],
   "source": [
    "num_users = num_movies = len(ratingsRaw) \n",
    "\n",
    "\n",
    "# Initialize the model\n",
    "model = RecommenderNN(num_users, num_movies, embedding_dim=32)\n",
    "\n",
    "criterion = nn.MSELoss()  # Regression task\n",
    "optimizer = optim.Adam(model.parameters(), lr=0.001)\n"
   ]
  },
  {
   "cell_type": "code",
   "execution_count": 11,
   "metadata": {},
   "outputs": [
    {
     "name": "stdout",
     "output_type": "stream",
     "text": [
      "Epoch 1/50, Train Loss: 1.4173, Val Loss: 1.0670\n",
      "Epoch 2/50, Train Loss: 1.0680, Val Loss: 0.9850\n",
      "Epoch 3/50, Train Loss: 0.9939, Val Loss: 0.9455\n",
      "Epoch 4/50, Train Loss: 0.9521, Val Loss: 0.9532\n",
      "Epoch 5/50, Train Loss: 0.9236, Val Loss: 0.9088\n",
      "Epoch 6/50, Train Loss: 0.9014, Val Loss: 0.9034\n",
      "Epoch 7/50, Train Loss: 0.8909, Val Loss: 0.8955\n",
      "Epoch 8/50, Train Loss: 0.8758, Val Loss: 0.9016\n",
      "Epoch 9/50, Train Loss: 0.8666, Val Loss: 0.8961\n",
      "Epoch 10/50, Train Loss: 0.8574, Val Loss: 0.8910\n",
      "Epoch 11/50, Train Loss: 0.8476, Val Loss: 0.8819\n",
      "Epoch 12/50, Train Loss: 0.8380, Val Loss: 0.8746\n",
      "Epoch 13/50, Train Loss: 0.8269, Val Loss: 0.8860\n",
      "Epoch 14/50, Train Loss: 0.8214, Val Loss: 0.9074\n",
      "Epoch 15/50, Train Loss: 0.8092, Val Loss: 0.8930\n",
      "Epoch 16/50, Train Loss: 0.7997, Val Loss: 0.8915\n",
      "Epoch 17/50, Train Loss: 0.7894, Val Loss: 0.8885\n",
      "Early stopping triggered at epoch 17. Best Validation Loss: 0.8746\n"
     ]
    }
   ],
   "source": [
    "# Move model to GPU if available\n",
    "device = torch.device(\"cuda\" if torch.cuda.is_available() else \"cpu\")\n",
    "model.to(device)\n",
    "\n",
    "# Training loop with Early Stopping\n",
    "num_epochs = 50  # Max epochs (can be large since early stopping will prevent overfitting)\n",
    "patience = 5     # Number of epochs to wait before stopping\n",
    "best_val_loss = float('inf')\n",
    "patience_counter = 0\n",
    "\n",
    "for epoch in range(num_epochs):\n",
    "    model.train()  # Set model to training mode\n",
    "    total_train_loss = 0\n",
    "\n",
    "    for user_ids, movie_ids, ratings in train_loader:\n",
    "        user_ids, movie_ids, ratings = user_ids.to(device), movie_ids.to(device), ratings.to(device)\n",
    "\n",
    "        optimizer.zero_grad()\n",
    "        predictions = model(user_ids, movie_ids)\n",
    "        loss = criterion(predictions, ratings)\n",
    "        loss.backward()\n",
    "        optimizer.step()\n",
    "\n",
    "        total_train_loss += loss.item()\n",
    "\n",
    "    # Validation step (NO gradient update)\n",
    "    model.eval()\n",
    "    total_val_loss = 0\n",
    "    with torch.no_grad():\n",
    "        for user_ids, movie_ids, ratings in val_loader:\n",
    "            user_ids, movie_ids, ratings = user_ids.to(device), movie_ids.to(device), ratings.to(device)\n",
    "            predictions = model(user_ids, movie_ids)\n",
    "            loss = criterion(predictions, ratings)\n",
    "            total_val_loss += loss.item()\n",
    "\n",
    "    avg_train_loss = total_train_loss / len(train_loader)\n",
    "    avg_val_loss = total_val_loss / len(val_loader)\n",
    "\n",
    "    print(f\"Epoch {epoch+1}/{num_epochs}, Train Loss: {avg_train_loss:.4f}, Val Loss: {avg_val_loss:.4f}\")\n",
    "\n",
    "    # Early stopping logic\n",
    "    if avg_val_loss < best_val_loss:\n",
    "        best_val_loss = avg_val_loss\n",
    "        patience_counter = 0  # Reset counter\n",
    "        torch.save(model, \"basicModel.pth\")  # Save the best model\n",
    "    else:\n",
    "        patience_counter += 1\n",
    "\n",
    "    if patience_counter >= patience:\n",
    "        print(f\"Early stopping triggered at epoch {epoch+1}. Best Validation Loss: {best_val_loss:.4f}\")\n",
    "        break  # Stop training\n",
    "\n"
   ]
  },
  {
   "cell_type": "markdown",
   "metadata": {},
   "source": [
    "## Test set evaluation"
   ]
  },
  {
   "cell_type": "code",
   "execution_count": 12,
   "metadata": {},
   "outputs": [
    {
     "name": "stdout",
     "output_type": "stream",
     "text": [
      "MSE for test set: 0.9332\n"
     ]
    }
   ],
   "source": [
    "model.eval()  # Set model to evaluation mode\n",
    "total_test_loss = 0\n",
    "\n",
    "for user_ids, movie_ids, ratings in test_loader:\n",
    "    user_ids, movie_ids, ratings = user_ids.to(device), movie_ids.to(device), ratings.to(device)\n",
    "\n",
    "    predictions = model(user_ids,movie_ids)\n",
    "    loss = criterion(predictions, ratings)\n",
    "    total_test_loss += loss.item()\n",
    "\n",
    "print(f\"MSE for test set: {total_test_loss/len(test_loader):.4f}\")"
   ]
  },
  {
   "cell_type": "markdown",
   "metadata": {},
   "source": [
    "## Reccomendation example"
   ]
  },
  {
   "cell_type": "code",
   "execution_count": 18,
   "metadata": {},
   "outputs": [],
   "source": [
    "def predict_rating(model, user_id, movie_id):\n",
    "    # Set model to evaluation mode\n",
    "    model.eval()\n",
    "    \n",
    "    # Convert IDs to tensors\n",
    "    user = torch.tensor([user_id], dtype=torch.long)\n",
    "    movie = torch.tensor([movie_id], dtype=torch.long)\n",
    "    \n",
    "    # Get prediction\n",
    "    with torch.no_grad():\n",
    "        prediction = model(user, movie)\n",
    "    \n",
    "    # Convert prediction to rating scale\n",
    "    predicted_rating = prediction.item()\n",
    "    \n",
    "    # Get movie title for better context\n",
    "    movie_title = idToTitle(movie_id)\n",
    "    \n",
    "    return predicted_rating\n",
    "    \n",
    "    print(f\"Predicted rating for User {user_id} watching '{movie_title}': {predicted_rating:.2f}\")\n",
    "\n",
    " "
   ]
  },
  {
   "cell_type": "code",
   "execution_count": 19,
   "metadata": {},
   "outputs": [],
   "source": [
    "def getRecommnedationsForUser(userID):\n",
    "    \n",
    "    ratedMovies = {}\n",
    "    \n",
    "    for movie_id in np.unique(ratingsRaw[\"movieId\"]):\n",
    "        rating = predict_rating(model, userID, movie_id)\n",
    "        ratedMovies[idToTitle(movie_id)] = rating\n",
    "        \n",
    "    sorted_movies = dict(sorted(ratedMovies.items(), key=lambda item: item[1], reverse=True)[:10])\n",
    "    \n",
    "    for movie in sorted_movies:\n",
    "        print(f\"{movie}, {sorted_movies[movie]:.2f}\")"
   ]
  },
  {
   "cell_type": "code",
   "execution_count": 24,
   "metadata": {},
   "outputs": [
    {
     "name": "stdout",
     "output_type": "stream",
     "text": [
      "Big Bang Theory, The (1994), 4.83\n",
      "Entertaining Angels: The Dorothy Day Story (1996), 4.71\n",
      "Saint of Fort Washington, The (1993), 4.67\n",
      "L.A. Confidential (1997), 4.64\n",
      "Shall We Dance? (1996), 4.58\n",
      "Raiders of the Lost Ark (1981), 4.55\n",
      "Anna (1996), 4.54\n",
      "Star Wars (1977), 4.52\n",
      "Boot, Das (1981), 4.49\n",
      "Close Shave, A (1995), 4.47\n"
     ]
    }
   ],
   "source": [
    "getRecommnedationsForUser(1)"
   ]
  },
  {
   "cell_type": "code",
   "execution_count": 20,
   "metadata": {},
   "outputs": [
    {
     "name": "stdout",
     "output_type": "stream",
     "text": [
      "Anna (1996), 4.85\n",
      "Saint of Fort Washington, The (1993), 4.76\n",
      "Entertaining Angels: The Dorothy Day Story (1996), 4.75\n",
      "Henry V (1989), 4.74\n",
      "Big Bang Theory, The (1994), 4.72\n",
      "Silence of the Lambs, The (1991), 4.69\n",
      "Schindler's List (1993), 4.65\n",
      "Secrets & Lies (1996), 4.65\n",
      "Manchurian Candidate, The (1962), 4.64\n",
      "Kaspar Hauser (1993), 4.63\n"
     ]
    }
   ],
   "source": [
    "getRecommnedationsForUser(2)"
   ]
  },
  {
   "cell_type": "code",
   "execution_count": 22,
   "metadata": {},
   "outputs": [
    {
     "name": "stdout",
     "output_type": "stream",
     "text": [
      "Citizen Kane (1941), 4.81\n",
      "Entertaining Angels: The Dorothy Day Story (1996), 4.74\n",
      "Anna (1996), 4.65\n",
      "Big Bang Theory, The (1994), 4.61\n",
      "Shall We Dance? (1996), 4.60\n",
      "Saint of Fort Washington, The (1993), 4.57\n",
      "Sling Blade (1996), 4.55\n",
      "Pather Panchali (1955), 4.55\n",
      "Paradise Lost: The Child Murders at Robin Hood Hills (1996), 4.54\n",
      "Dr. Strangelove or: How I Learned to Stop Worrying and Love the Bomb (1963), 4.50\n"
     ]
    }
   ],
   "source": [
    "getRecommnedationsForUser(35)"
   ]
  },
  {
   "cell_type": "markdown",
   "metadata": {},
   "source": [
    "## LOAD THE MODEL"
   ]
  },
  {
   "cell_type": "code",
   "execution_count": 14,
   "metadata": {},
   "outputs": [],
   "source": [
    "model = torch.load(\"basicModel.pth\",weights_only=False)"
   ]
  }
 ],
 "metadata": {
  "kernelspec": {
   "display_name": "DeepLearnConda",
   "language": "python",
   "name": "python3"
  },
  "language_info": {
   "codemirror_mode": {
    "name": "ipython",
    "version": 3
   },
   "file_extension": ".py",
   "mimetype": "text/x-python",
   "name": "python",
   "nbconvert_exporter": "python",
   "pygments_lexer": "ipython3",
   "version": "3.10.12"
  }
 },
 "nbformat": 4,
 "nbformat_minor": 2
}
